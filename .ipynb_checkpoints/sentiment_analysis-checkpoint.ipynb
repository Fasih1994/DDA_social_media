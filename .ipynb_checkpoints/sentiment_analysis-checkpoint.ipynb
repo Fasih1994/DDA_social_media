{
 "cells": [
  {
   "cell_type": "code",
   "execution_count": 1,
   "id": "ba06cb6d-97a1-4932-b97c-23934f40daff",
   "metadata": {},
   "outputs": [],
   "source": [
    "from dotenv import load_dotenv\n",
    "from pydantic import BaseModel, Field\n",
    "from enum import Enum, auto\n",
    "from typing import List\n",
    "from langchain.chat_models import ChatOpenAI\n",
    "# from langchain.llms import ChatOpenAI\n",
    "from langchain.chains import create_tagging_chain\n",
    "load_dotenv()\n",
    "# Step 1: Create an instance of the language model\n",
    "llm = ChatOpenAI()"
   ]
  },
  {
   "cell_type": "code",
   "execution_count": 2,
   "id": "3d0f16b8-1033-4d4a-8764-370f1905058d",
   "metadata": {},
   "outputs": [],
   "source": [
    "class Sentiment(str, Enum):\n",
    "    positive = \"positive\"\n",
    "    neutral = \"neutral\"\n",
    "    negative = \"negative\"\n",
    "\n",
    "class Tone(str, Enum):\n",
    "    positive = \"positive\"\n",
    "    negative = \"negative\"\n",
    "    neutral = \"neutral\"\n",
    "    mixed = \"mixed\"\n",
    "    happy = \"happy\"\n",
    "    sad = \"sad\"\n",
    "    angry = \"angry\"\n",
    "    surprised = \"surprised\"\n",
    "    fearful = \"fearful\"\n",
    "    confident = \"confident\"\n",
    "    uncertain = \"uncertain\"\n",
    "    excited = \"excited\"\n",
    "    disgusted = \"disgusted\"\n",
    "    hopeful = \"hopeful\"\n",
    "    cautious = \"cautious\"\n",
    "\n",
    "class Language(str, Enum):\n",
    "    spanish = \"spanish\"\n",
    "    english = \"english\"\n",
    "    french = \"french\"\n",
    "    german = \"german\"\n",
    "    italian = \"italian\"\n",
    "    dutch = \"dutch\"\n",
    "    portuguese = \"portuguese\"\n",
    "    russian = \"russian\"\n",
    "    chinese = \"chinese\"\n",
    "    japanese = \"japanese\"\n",
    "    arabic = \"arabic\"\n",
    "    hindi = \"hindi\"\n",
    "    korean = \"korean\"\n",
    "    turkish = \"turkish\"\n",
    "\n",
    "class Tags(BaseModel):\n",
    "    sentiment: Sentiment = Field(..., description=\"Describes the sentiment of the statement.\")\n",
    "    tone: Tone = Field(\n",
    "        ...,\n",
    "        description=\"Describes the tone of the statement.\",\n",
    "    )\n",
    "    language: Language = Field(\n",
    "        ...,\n",
    "        description=\"Specifies the language of the text.\",\n",
    "    )"
   ]
  },
  {
   "cell_type": "code",
   "execution_count": 3,
   "id": "81e53b71-fccb-42c8-8a65-ddd0454a1dd3",
   "metadata": {},
   "outputs": [],
   "source": [
    "from langchain.prompts.chat import ChatPromptTemplate, HumanMessagePromptTemplate\n",
    "from langchain.schema import SystemMessage, HumanMessage\n",
    "\n",
    "prompt_messages = [\n",
    "    SystemMessage(\n",
    "        content=(\n",
    "            \"You are a world class algorithm to identify sentiment of tweets\"\n",
    "            \"Answers in specific format of sentiment, tone and language\"\n",
    "        )\n",
    "    ),\n",
    "    HumanMessagePromptTemplate.from_template(\"tweet: {tweet}\"),\n",
    "    HumanMessage(\n",
    "        content=\"Tips: Make sure to answer in the correct format. Return at least one from field from schema.\"\n",
    "    ),\n",
    "]\n",
    "chain_prompt = ChatPromptTemplate(messages=prompt_messages)\n"
   ]
  },
  {
   "cell_type": "code",
   "execution_count": 4,
   "id": "095b5c71-3585-4d03-b636-962af993963b",
   "metadata": {},
   "outputs": [],
   "source": [
    "# Step 3: Create a tagging chain based on the schema\n",
    "chain = create_tagging_chain(\n",
    "    Tags.schema(), \n",
    "    llm,\n",
    "    prompt=chain_prompt\n",
    ")"
   ]
  },
  {
   "cell_type": "code",
   "execution_count": 5,
   "id": "1f0d0a4b-62a3-44a9-bc08-6dd366ee8bac",
   "metadata": {},
   "outputs": [],
   "source": [
    "# Step 4: Process the text and extract the properties\n",
    "text = \"The chicken was good but staff was lazy.\"\n",
    "result = chain.run(text)"
   ]
  },
  {
   "cell_type": "code",
   "execution_count": 6,
   "id": "b8b94874-055d-4a6e-9083-cd77894d08aa",
   "metadata": {},
   "outputs": [
    {
     "data": {
      "text/plain": [
       "{'sentiment': 'positive', 'tone': 'neutral', 'language': 'English'}"
      ]
     },
     "execution_count": 6,
     "metadata": {},
     "output_type": "execute_result"
    }
   ],
   "source": [
    "result"
   ]
  },
  {
   "cell_type": "code",
   "execution_count": 7,
   "id": "e8fea75f-34d7-4f2d-a8f7-7fc8c4371cc1",
   "metadata": {},
   "outputs": [
    {
     "name": "stdout",
     "output_type": "stream",
     "text": [
      "positive\n",
      "neutral\n",
      "English\n"
     ]
    }
   ],
   "source": [
    "sentiment = result[\"sentiment\"]\n",
    "tone = result[\"tone\"]\n",
    "language = result[\"language\"]\n",
    "\n",
    "print(sentiment)\n",
    "print(tone)\n",
    "print(language)"
   ]
  },
  {
   "cell_type": "markdown",
   "id": "af84fd32-9272-4c28-b083-f5838caadf58",
   "metadata": {},
   "source": [
    "# Testing"
   ]
  },
  {
   "cell_type": "code",
   "execution_count": 5,
   "id": "e0c1c3f0-7925-475e-a077-8cf23c88ca26",
   "metadata": {},
   "outputs": [],
   "source": [
    "from get_sentiment import get_sentiment\n",
    "import random\n",
    "import pandas as pd"
   ]
  },
  {
   "cell_type": "code",
   "execution_count": 10,
   "id": "b3724148-6f55-45e2-843c-f2a7d2f17a52",
   "metadata": {},
   "outputs": [
    {
     "data": {
      "text/plain": [
       "('positive', 'mixed', 'English')"
      ]
     },
     "execution_count": 10,
     "metadata": {},
     "output_type": "execute_result"
    }
   ],
   "source": [
    "get_sentiment(text)"
   ]
  },
  {
   "cell_type": "code",
   "execution_count": 10,
   "id": "cca7280e-ece9-463e-a6e8-8dc51f684afc",
   "metadata": {},
   "outputs": [],
   "source": [
    "df = pd.read_csv('data/comments.csv')"
   ]
  },
  {
   "cell_type": "code",
   "execution_count": 11,
   "id": "ee99e8d3-1242-44b5-b0d8-cee859914eb9",
   "metadata": {},
   "outputs": [
    {
     "data": {
      "text/html": [
       "<div>\n",
       "<style scoped>\n",
       "    .dataframe tbody tr th:only-of-type {\n",
       "        vertical-align: middle;\n",
       "    }\n",
       "\n",
       "    .dataframe tbody tr th {\n",
       "        vertical-align: top;\n",
       "    }\n",
       "\n",
       "    .dataframe thead th {\n",
       "        text-align: right;\n",
       "    }\n",
       "</style>\n",
       "<table border=\"1\" class=\"dataframe\">\n",
       "  <thead>\n",
       "    <tr style=\"text-align: right;\">\n",
       "      <th></th>\n",
       "      <th>tweet_id</th>\n",
       "      <th>name</th>\n",
       "      <th>username</th>\n",
       "      <th>author_id</th>\n",
       "      <th>key_term</th>\n",
       "      <th>text</th>\n",
       "      <th>possibly_sensitive</th>\n",
       "      <th>lang</th>\n",
       "      <th>created_at</th>\n",
       "      <th>retweet_count</th>\n",
       "      <th>reply_count</th>\n",
       "      <th>like_count</th>\n",
       "      <th>quote_count</th>\n",
       "      <th>bookmark_count</th>\n",
       "      <th>impression_count</th>\n",
       "      <th>conversation_id</th>\n",
       "    </tr>\n",
       "  </thead>\n",
       "  <tbody>\n",
       "    <tr>\n",
       "      <th>0</th>\n",
       "      <td>1696918408015585758</td>\n",
       "      <td>Mohamed ali</td>\n",
       "      <td>Mohamed29446432</td>\n",
       "      <td>1692233493017714688</td>\n",
       "      <td>1696910426548621479</td>\n",
       "      <td>@ibahzad @M___R1212 @AlAmeenService @DigitalDu...</td>\n",
       "      <td>False</td>\n",
       "      <td>ar</td>\n",
       "      <td>2023-08-30T16:10:50.000Z</td>\n",
       "      <td>0</td>\n",
       "      <td>0</td>\n",
       "      <td>0</td>\n",
       "      <td>0</td>\n",
       "      <td>0</td>\n",
       "      <td>6</td>\n",
       "      <td>1696910426548621479</td>\n",
       "    </tr>\n",
       "    <tr>\n",
       "      <th>1</th>\n",
       "      <td>1696913269259116594</td>\n",
       "      <td>Asmaa mohamed Ali</td>\n",
       "      <td>asmaamohamed313</td>\n",
       "      <td>3700192701</td>\n",
       "      <td>1696910426548621479</td>\n",
       "      <td>@ibahzad @AlAmeenService @DigitalDubai الله يج...</td>\n",
       "      <td>False</td>\n",
       "      <td>ar</td>\n",
       "      <td>2023-08-30T15:50:25.000Z</td>\n",
       "      <td>0</td>\n",
       "      <td>0</td>\n",
       "      <td>1</td>\n",
       "      <td>0</td>\n",
       "      <td>0</td>\n",
       "      <td>54</td>\n",
       "      <td>1696910426548621479</td>\n",
       "    </tr>\n",
       "    <tr>\n",
       "      <th>2</th>\n",
       "      <td>1696911322724626644</td>\n",
       "      <td>AAAA/O/T</td>\n",
       "      <td>AlaaTurky55511</td>\n",
       "      <td>3386035469</td>\n",
       "      <td>1696910426548621479</td>\n",
       "      <td>@ibahzad @AlAmeenService @DigitalDubai ربنا يس...</td>\n",
       "      <td>False</td>\n",
       "      <td>ar</td>\n",
       "      <td>2023-08-30T15:42:41.000Z</td>\n",
       "      <td>0</td>\n",
       "      <td>0</td>\n",
       "      <td>1</td>\n",
       "      <td>0</td>\n",
       "      <td>0</td>\n",
       "      <td>49</td>\n",
       "      <td>1696910426548621479</td>\n",
       "    </tr>\n",
       "    <tr>\n",
       "      <th>3</th>\n",
       "      <td>1697203079102222381</td>\n",
       "      <td>Digital Dubai دبي الرقمية</td>\n",
       "      <td>DigitalDubai</td>\n",
       "      <td>79970951</td>\n",
       "      <td>1697203026480464104</td>\n",
       "      <td>The \"04\" platform connects you directly to the...</td>\n",
       "      <td>False</td>\n",
       "      <td>en</td>\n",
       "      <td>2023-08-31T11:02:01.000Z</td>\n",
       "      <td>1</td>\n",
       "      <td>0</td>\n",
       "      <td>2</td>\n",
       "      <td>0</td>\n",
       "      <td>0</td>\n",
       "      <td>479</td>\n",
       "      <td>1697203026480464104</td>\n",
       "    </tr>\n",
       "    <tr>\n",
       "      <th>4</th>\n",
       "      <td>1697978812309372936</td>\n",
       "      <td>🏅Salaam Fashion</td>\n",
       "      <td>salaamfashion</td>\n",
       "      <td>1112560015079030784</td>\n",
       "      <td>1696909628536131934</td>\n",
       "      <td>@DigitalDubai @AlAmeenService @DIALA_ALI ❤️ FR...</td>\n",
       "      <td>False</td>\n",
       "      <td>en</td>\n",
       "      <td>2023-09-02T14:24:30.000Z</td>\n",
       "      <td>0</td>\n",
       "      <td>0</td>\n",
       "      <td>0</td>\n",
       "      <td>0</td>\n",
       "      <td>0</td>\n",
       "      <td>19</td>\n",
       "      <td>1696909628536131934</td>\n",
       "    </tr>\n",
       "  </tbody>\n",
       "</table>\n",
       "</div>"
      ],
      "text/plain": [
       "              tweet_id                       name         username  \\\n",
       "0  1696918408015585758                Mohamed ali  Mohamed29446432   \n",
       "1  1696913269259116594          Asmaa mohamed Ali  asmaamohamed313   \n",
       "2  1696911322724626644                   AAAA/O/T   AlaaTurky55511   \n",
       "3  1697203079102222381  Digital Dubai دبي الرقمية     DigitalDubai   \n",
       "4  1697978812309372936            🏅Salaam Fashion    salaamfashion   \n",
       "\n",
       "             author_id             key_term  \\\n",
       "0  1692233493017714688  1696910426548621479   \n",
       "1           3700192701  1696910426548621479   \n",
       "2           3386035469  1696910426548621479   \n",
       "3             79970951  1697203026480464104   \n",
       "4  1112560015079030784  1696909628536131934   \n",
       "\n",
       "                                                text  possibly_sensitive lang  \\\n",
       "0  @ibahzad @M___R1212 @AlAmeenService @DigitalDu...               False   ar   \n",
       "1  @ibahzad @AlAmeenService @DigitalDubai الله يج...               False   ar   \n",
       "2  @ibahzad @AlAmeenService @DigitalDubai ربنا يس...               False   ar   \n",
       "3  The \"04\" platform connects you directly to the...               False   en   \n",
       "4  @DigitalDubai @AlAmeenService @DIALA_ALI ❤️ FR...               False   en   \n",
       "\n",
       "                 created_at  retweet_count  reply_count  like_count  \\\n",
       "0  2023-08-30T16:10:50.000Z              0            0           0   \n",
       "1  2023-08-30T15:50:25.000Z              0            0           1   \n",
       "2  2023-08-30T15:42:41.000Z              0            0           1   \n",
       "3  2023-08-31T11:02:01.000Z              1            0           2   \n",
       "4  2023-09-02T14:24:30.000Z              0            0           0   \n",
       "\n",
       "   quote_count  bookmark_count  impression_count      conversation_id  \n",
       "0            0               0                 6  1696910426548621479  \n",
       "1            0               0                54  1696910426548621479  \n",
       "2            0               0                49  1696910426548621479  \n",
       "3            0               0               479  1697203026480464104  \n",
       "4            0               0                19  1696909628536131934  "
      ]
     },
     "execution_count": 11,
     "metadata": {},
     "output_type": "execute_result"
    }
   ],
   "source": [
    "def random_result(text):\n",
    "    l1 = [1,2,3,4]\n",
    "    l2 = [1,2,3,4]\n",
    "    l3 = [1,2,3,4]\n",
    "    return [random.choice(l1), random.choice(l2), random.choice(l3)]\n",
    "df.head()"
   ]
  },
  {
   "cell_type": "code",
   "execution_count": 12,
   "id": "0cd68682-b930-4399-998c-f9841c0f9453",
   "metadata": {},
   "outputs": [],
   "source": [
    "df.drop_duplicates(subset=['tweet_id'],inplace=True)"
   ]
  },
  {
   "cell_type": "code",
   "execution_count": 13,
   "id": "f736c468-387a-471e-b60b-0c3ac9403c49",
   "metadata": {},
   "outputs": [
    {
     "data": {
      "text/plain": [
       "(24, 16)"
      ]
     },
     "execution_count": 13,
     "metadata": {},
     "output_type": "execute_result"
    }
   ],
   "source": [
    "df= df[['tweet_id', 'name', 'username', 'author_id', 'key_term',\n",
    "       'text', 'possibly_sensitive', 'lang', 'created_at', 'retweet_count',\n",
    "       'reply_count', 'like_count', 'quote_count', 'bookmark_count',\n",
    "       'impression_count', 'conversation_id']]\n",
    "df.shape"
   ]
  },
  {
   "cell_type": "code",
   "execution_count": null,
   "id": "08c838b4-46aa-44db-83ad-dfb1d9295ed3",
   "metadata": {},
   "outputs": [
    {
     "name": "stdout",
     "output_type": "stream",
     "text": [
      "negative pleading arabic\n",
      "negative neutral arabic\n",
      "positive neutral arabic\n",
      "positive informative English\n",
      "positive emotional English\n",
      "positive appreciative Arabic\n",
      "neutral informative English\n",
      "fear distrust arabic\n",
      "neutral informative arabic\n",
      "positive informative arabic\n"
     ]
    }
   ],
   "source": [
    "import time\n",
    "dict_sentiment = dict(\n",
    "    id=[],\n",
    "    sentiment=[],\n",
    "    tone=[],\n",
    "    language=[]\n",
    ")\n",
    "\n",
    "for i in range(df.shape[0]):\n",
    "    id = df.iloc[i,0]\n",
    "    text = df.iloc[i,5]\n",
    "    dict_sentiment['id'].append(id)\n",
    "    sentiment,tone,language = get_sentiment(text)\n",
    "    dict_sentiment['sentiment'].append(sentiment)\n",
    "    dict_sentiment['tone'].append(tone)\n",
    "    dict_sentiment['language'].append(language)\n",
    "    print(sentiment,tone,language)\n",
    "    time.sleep(1.5)\n",
    "sentiment_df = pd.DataFrame(dict_sentiment)\n",
    "# df[['sentiment','tone','language']] = df['text'].apply(lambda tweet: pd.Series(get_sentiment(tweet)))"
   ]
  },
  {
   "cell_type": "code",
   "execution_count": 33,
   "id": "ed950993-8fe6-43a5-a44f-d4a200b1aea0",
   "metadata": {},
   "outputs": [],
   "source": [
    "sentiment_df.to_csv('data/sentiment_comment.csv',index=False)"
   ]
  },
  {
   "cell_type": "code",
   "execution_count": 36,
   "id": "b5891102-eca6-45d1-a8f9-06203d86f676",
   "metadata": {},
   "outputs": [],
   "source": [
    "final_df = df.merge(sentiment_df, right_on='id', left_on='tweet_id', how='inner')\n",
    "final_df = final_df[['tweet_id', 'name', 'username', 'author_id', 'key_term',\n",
    "       'text', 'possibly_sensitive', 'created_at', 'retweet_count',\n",
    "       'reply_count', 'like_count', 'quote_count', 'bookmark_count',\n",
    "       'impression_count', 'conversation_id', 'sentiment','tone', 'language']]"
   ]
  },
  {
   "cell_type": "code",
   "execution_count": 38,
   "id": "b79f930b-d6ef-4a47-adcd-6f28ba74cd84",
   "metadata": {},
   "outputs": [],
   "source": [
    "final_df.to_csv('data/comments_final.csv', index=False)"
   ]
  },
  {
   "cell_type": "code",
   "execution_count": 39,
   "id": "384d590f-d8d5-41b0-876f-f5d4dc0736e2",
   "metadata": {},
   "outputs": [
    {
     "name": "stdout",
     "output_type": "stream",
     "text": [
      "/home/fasih/tweeter_api/data [] ['user.csv', 'sentiment.csv', 'final.csv', 'tweet.csv']\n"
     ]
    }
   ],
   "source": [
    "!python send_file_to_cloud.py"
   ]
  },
  {
   "cell_type": "code",
   "execution_count": null,
   "id": "ba565bad-234a-440a-a5aa-738a2e2b42b2",
   "metadata": {},
   "outputs": [],
   "source": []
  }
 ],
 "metadata": {
  "kernelspec": {
   "display_name": "Python 3 (ipykernel)",
   "language": "python",
   "name": "python3"
  },
  "language_info": {
   "codemirror_mode": {
    "name": "ipython",
    "version": 3
   },
   "file_extension": ".py",
   "mimetype": "text/x-python",
   "name": "python",
   "nbconvert_exporter": "python",
   "pygments_lexer": "ipython3",
   "version": "3.10.12"
  }
 },
 "nbformat": 4,
 "nbformat_minor": 5
}
